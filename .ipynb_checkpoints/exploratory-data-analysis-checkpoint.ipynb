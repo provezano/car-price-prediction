{
 "cells": [
  {
   "cell_type": "markdown",
   "id": "107f52ae",
   "metadata": {},
   "source": [
    "## 1.0 Libraries"
   ]
  },
  {
   "cell_type": "code",
   "execution_count": 2,
   "id": "20a226d5",
   "metadata": {},
   "outputs": [],
   "source": [
    "import numpy as np\n",
    "import pandas as pd\n",
    "import seaborn as sns\n",
    "import matplotlib.pyplot as plt\n",
    "%matplotlib inline"
   ]
  },
  {
   "cell_type": "markdown",
   "id": "e7c3fbf2",
   "metadata": {},
   "source": [
    "## 2.0 Load the dataset"
   ]
  },
  {
   "cell_type": "code",
   "execution_count": 7,
   "id": "d879c5f3",
   "metadata": {},
   "outputs": [],
   "source": [
    "df = pd.read_csv(r'dataset/data.csv')"
   ]
  },
  {
   "cell_type": "markdown",
   "id": "b5651929",
   "metadata": {},
   "source": [
    "## 3.0 Preparing the dataset"
   ]
  },
  {
   "cell_type": "markdown",
   "id": "ade03eca",
   "metadata": {},
   "source": [
    "### 3.1 Renaming the columns"
   ]
  },
  {
   "cell_type": "code",
   "execution_count": 8,
   "id": "1fb03194",
   "metadata": {},
   "outputs": [],
   "source": [
    "df.columns = df.columns.str.lower().str.replace(' ', '_')"
   ]
  },
  {
   "cell_type": "markdown",
   "id": "995e1eee",
   "metadata": {},
   "source": [
    "### 3.2 Normalizing string values"
   ]
  },
  {
   "cell_type": "code",
   "execution_count": 10,
   "id": "983307be",
   "metadata": {},
   "outputs": [
    {
     "data": {
      "text/plain": [
       "['make',\n",
       " 'model',\n",
       " 'engine_fuel_type',\n",
       " 'transmission_type',\n",
       " 'driven_wheels',\n",
       " 'market_category',\n",
       " 'vehicle_size',\n",
       " 'vehicle_style']"
      ]
     },
     "execution_count": 10,
     "metadata": {},
     "output_type": "execute_result"
    }
   ],
   "source": [
    "string_columns = list(df.dtypes[df.dtypes=='object'].index)\n",
    "\n",
    "for col in string_columns:\n",
    "    df[col] = df[col].str.lower().str.replace(' ', '_')"
   ]
  },
  {
   "cell_type": "markdown",
   "id": "28115af5",
   "metadata": {},
   "source": [
    "## 4.0 Target variable analysis"
   ]
  },
  {
   "cell_type": "markdown",
   "id": "0076b2b4",
   "metadata": {},
   "source": [
    "### 4.1 Target variable visualization"
   ]
  },
  {
   "cell_type": "code",
   "execution_count": 21,
   "id": "3d30a38e",
   "metadata": {},
   "outputs": [
    {
     "data": {
      "text/plain": [
       "Text(0.5, 1.0, 'MSRP distribution (only MSRP<10e4)')"
      ]
     },
     "execution_count": 21,
     "metadata": {},
     "output_type": "execute_result"
    },
    {
     "data": {
      "image/png": "[encoded data removed]",
      "text/plain": [
       "<Figure size 1152x360 with 2 Axes>"
      ]
     },
     "metadata": {
      "needs_background": "light"
     },
     "output_type": "display_data"
    }
   ],
   "source": [
    "fig, ax = plt.subplots(1,2,figsize=(16,5))\n",
    "\n",
    "col = 'msrp'\n",
    "\n",
    "sns.histplot(x=col, data=df, ax=ax[0], bins=40)\n",
    "sns.histplot(x=col, data=df[df[col]<10e4], ax=ax[1], bins=40);\n",
    "\n",
    "ax[0].set_title('MSRP distribution')\n",
    "ax[1].set_title('MSRP distribution (only MSRP<10e4)')"
   ]
  },
  {
   "cell_type": "markdown",
   "id": "60cecc03",
   "metadata": {},
   "source": [
    "### 4.2 Target variable transformation"
   ]
  },
  {
   "cell_type": "code",
   "execution_count": 22,
   "id": "caaca8ef",
   "metadata": {},
   "outputs": [],
   "source": [
    "log_price = np.log1p(df['msrp'])"
   ]
  },
  {
   "cell_type": "code",
   "execution_count": 26,
   "id": "eeab992f",
   "metadata": {},
   "outputs": [
    {
     "data": {
      "image/png": "[encoded data removed]",
      "text/plain": [
       "<Figure size 1152x360 with 1 Axes>"
      ]
     },
     "metadata": {
      "needs_background": "light"
     },
     "output_type": "display_data"
    }
   ],
   "source": [
    "plt.subplots(figsize=(16,5))\n",
    "sns.histplot(log_price)\n",
    "plt.title('MSRP distribution after log(y+1) transformation');"
   ]
  },
  {
   "cell_type": "markdown",
   "id": "ee364ca2",
   "metadata": {},
   "source": [
    "## 5.0 Checking for missing values"
   ]
  },
  {
   "cell_type": "code",
   "execution_count": 27,
   "id": "483f6bcd",
   "metadata": {},
   "outputs": [
    {
     "data": {
      "text/plain": [
       "make                    0\n",
       "model                   0\n",
       "year                    0\n",
       "engine_fuel_type        3\n",
       "engine_hp              69\n",
       "engine_cylinders       30\n",
       "transmission_type       0\n",
       "driven_wheels           0\n",
       "number_of_doors         6\n",
       "market_category      3742\n",
       "vehicle_size            0\n",
       "vehicle_style           0\n",
       "highway_mpg             0\n",
       "city_mpg                0\n",
       "popularity              0\n",
       "msrp                    0\n",
       "dtype: int64"
      ]
     },
     "execution_count": 27,
     "metadata": {},
     "output_type": "execute_result"
    }
   ],
   "source": [
    "df.isnull().sum()"
   ]
  },
  {
   "cell_type": "markdown",
   "id": "b43ebe85",
   "metadata": {},
   "source": [
    "## 6.0 Validation framework"
   ]
  },
  {
   "cell_type": "markdown",
   "id": "0047c57d",
   "metadata": {},
   "source": [
    "### 6.1 Train, validation, test data split"
   ]
  },
  {
   "cell_type": "code",
   "execution_count": 28,
   "id": "5c1802b0",
   "metadata": {},
   "outputs": [],
   "source": [
    "n = len(df)"
   ]
  },
  {
   "cell_type": "code",
   "execution_count": 29,
   "id": "1abe1ca3",
   "metadata": {},
   "outputs": [],
   "source": [
    "n_val = int(0.2*n)\n",
    "n_test = int(0.2*n)\n",
    "n_train = n - (n_val + n_test)"
   ]
  },
  {
   "cell_type": "code",
   "execution_count": 32,
   "id": "49c2f9c1",
   "metadata": {},
   "outputs": [],
   "source": [
    "np.random.seed(42)\n",
    "idx = np.arange(n)\n",
    "np.random.shuffle(idx)"
   ]
  },
  {
   "cell_type": "code",
   "execution_count": 34,
   "id": "3322bf9a",
   "metadata": {},
   "outputs": [],
   "source": [
    "df_shuffled = df.iloc[idx]"
   ]
  },
  {
   "cell_type": "code",
   "execution_count": 36,
   "id": "26d013fd",
   "metadata": {},
   "outputs": [],
   "source": [
    "df_train = df_shuffled.iloc[:n_train].copy()\n",
    "df_val = df_shuffled.iloc[n_train:n_train+n_val].copy()\n",
    "df_test = df_shuffled.iloc[n_train+n_val:].copy()"
   ]
  },
  {
   "cell_type": "markdown",
   "id": "95fce32f",
   "metadata": {},
   "source": [
    "### 6.2 Log transformation"
   ]
  },
  {
   "cell_type": "code",
   "execution_count": 37,
   "id": "c5ddf4be",
   "metadata": {},
   "outputs": [],
   "source": [
    "y_train = np.log1p(df_train['msrp'].values)\n",
    "y_val = np.log1p(df_val['msrp'].values)\n",
    "y_test = np.log1p(df_test['msrp'].values)"
   ]
  },
  {
   "cell_type": "code",
   "execution_count": 38,
   "id": "7b74c7ce",
   "metadata": {},
   "outputs": [],
   "source": [
    "del df_train['msrp']\n",
    "del df_val['msrp']\n",
    "del df_test['msrp']"
   ]
  },
  {
   "cell_type": "markdown",
   "id": "0783b725",
   "metadata": {},
   "source": [
    "## 7.0 Machine learning for regression"
   ]
  },
  {
   "cell_type": "markdown",
   "id": "ede753b5",
   "metadata": {},
   "source": [
    "### 7.1 Linear Regression (Normal Equations)"
   ]
  },
  {
   "cell_type": "code",
   "execution_count": 39,
   "id": "9232251e",
   "metadata": {},
   "outputs": [],
   "source": [
    "def train_linear_regression(X, y):\n",
    "    ones = np.ones(X.shape[0])\n",
    "    X = np.column_stack([ones, X])\n",
    "    \n",
    "    XTX = X.T.dot(X)\n",
    "    XTX_inv = np.linalg.inv(XTX)\n",
    "    w = XTX_inv.dot(X.T).dot(y)\n",
    "    \n",
    "    return w[0], w[1:]"
   ]
  },
  {
   "cell_type": "markdown",
   "id": "1872ec6f",
   "metadata": {},
   "source": [
    "### 7.2 Predicting the price"
   ]
  },
  {
   "cell_type": "markdown",
   "id": "63c0e9f6",
   "metadata": {},
   "source": [
    "#### 7.2.1 Baseline solution"
   ]
  },
  {
   "cell_type": "markdown",
   "id": "33c48479",
   "metadata": {},
   "source": [
    "* Feature selection"
   ]
  },
  {
   "cell_type": "code",
   "execution_count": 40,
   "id": "f2004571",
   "metadata": {},
   "outputs": [],
   "source": [
    "base = ['engine_hp', 'engine_cylinders', 'highway_mpg', 'city_mpg', 'popularity']\n",
    "df_num = df_train[base]"
   ]
  },
  {
   "cell_type": "markdown",
   "id": "65e55442",
   "metadata": {},
   "source": [
    "* Replace NAN values with zero"
   ]
  },
  {
   "cell_type": "code",
   "execution_count": 41,
   "id": "6b883ba4",
   "metadata": {},
   "outputs": [],
   "source": [
    "df_num = df_num.fillna(0)"
   ]
  },
  {
   "cell_type": "markdown",
   "id": "5fd2a2eb",
   "metadata": {},
   "source": [
    "* Training the LR model"
   ]
  },
  {
   "cell_type": "code",
   "execution_count": 43,
   "id": "11ce8a0d",
   "metadata": {},
   "outputs": [],
   "source": [
    "X_train = df_num.values\n",
    "w_0, w = train_linear_regression(X_train, y_train)"
   ]
  },
  {
   "cell_type": "markdown",
   "id": "9ad7e06a",
   "metadata": {},
   "source": [
    "* Make predictions"
   ]
  },
  {
   "cell_type": "code",
   "execution_count": 44,
   "id": "b9fe1508",
   "metadata": {},
   "outputs": [],
   "source": [
    "y_pred = w_0 + X_train.dot(w)"
   ]
  },
  {
   "cell_type": "markdown",
   "id": "23d68c01",
   "metadata": {},
   "source": [
    "* Predictions Analisys"
   ]
  },
  {
   "cell_type": "code",
   "execution_count": 48,
   "id": "0c987e75",
   "metadata": {},
   "outputs": [
    {
     "data": {
      "text/plain": [
       "<matplotlib.legend.Legend at 0x1fb23577d00>"
      ]
     },
     "execution_count": 48,
     "metadata": {},
     "output_type": "execute_result"
    },
    {
     "data": {
      "image/png": "[encoded data removed]",
      "text/plain": [
       "<Figure size 1152x576 with 1 Axes>"
      ]
     },
     "metadata": {
      "needs_background": "light"
     },
     "output_type": "display_data"
    }
   ],
   "source": [
    "plt.subplots(figsize=(16,8))\n",
    "\n",
    "sns.histplot(y_pred, label='predictions')\n",
    "sns.histplot(y_train, label='target')\n",
    "\n",
    "plt.legend();"
   ]
  },
  {
   "cell_type": "markdown",
   "id": "b27eddd5",
   "metadata": {},
   "source": [
    "### 7.3 RMSE"
   ]
  },
  {
   "cell_type": "code",
   "execution_count": null,
   "id": "bf253c91",
   "metadata": {},
   "outputs": [],
   "source": []
  }
 ],
 "metadata": {
  "kernelspec": {
   "display_name": "Python 3 (ipykernel)",
   "language": "python",
   "name": "python3"
  },
  "language_info": {
   "codemirror_mode": {
    "name": "ipython",
    "version": 3
   },
   "file_extension": ".py",
   "mimetype": "text/x-python",
   "name": "python",
   "nbconvert_exporter": "python",
   "pygments_lexer": "ipython3",
   "version": "3.8.12"
  }
 },
 "nbformat": 4,
 "nbformat_minor": 5
}
